{
 "cells": [
  {
   "cell_type": "code",
   "execution_count": 1,
   "id": "b3f8f647-121d-4211-a8ef-f793032f91d6",
   "metadata": {},
   "outputs": [],
   "source": [
    "# Importing essential Python libraries for data analysis and visualization\n",
    "import numpy as np\n",
    "import pandas as pd\n",
    "import matplotlib.pyplot as plt\n",
    "from ipywidgets import interact, interactive\n",
    "from IPython.display import display"
   ]
  },
  {
   "cell_type": "code",
   "execution_count": 2,
   "id": "c728dda2-bdf6-4eed-b2c4-6401c15d9302",
   "metadata": {},
   "outputs": [],
   "source": [
    "# This function models the pressure profile in a radial reservoir\n",
    "# using the steady-state radial flow equation from Darcy’s Law.\n",
    "\n",
    "def flowprofile(k, mu, q):\n",
    "    \n",
    "    \"\"\"\n",
    "    Parameters:\n",
    "    k  : Permeability of reservoir rock in millidarcies (mD)\n",
    "    mu : Viscosity of fluid in centipoise (cP)\n",
    "    q  : Production rate in STB/day\n",
    "\n",
    "    Outputs:\n",
    "    Dynamic pressure profile plot showing radial variation of pressure\n",
    "    \"\"\"\n",
    "    # Fixed reservoir geometry and fluid parameters\n",
    "    re = 3000            # Reservoir outer radius in feet\n",
    "    rw = 0.5             # Wellbore radius in feet\n",
    "    pe = 4000            # Pressure at outer boundary (psi)\n",
    "    B = 1                # Formation volume factor \n",
    "    h = 30               # Reservoir thickness in feet\n",
    "    \n",
    "    # Radial positions from rw to re\n",
    "    r = np.linspace(rw, re, 500)\n",
    "\n",
    "    # Pressure distribution equation (Darcy's radial steady-state)\n",
    "    P = pe - (141.2 * q * mu * B * (np.log(re / r)) / k / h)\n",
    "\n",
    "    y_min = P [np.where(r==rw)]\n",
    "    \n",
    "    # --------------- Plotting the Pressure Profile ----------------\n",
    "    plt.figure(figsize=(8, 6))\n",
    "    plt.plot(r, P, linewidth=4)\n",
    "    plt.axhline(y=y_min, linewidth=3, color='red', label='Wellbore Pressure')\n",
    "    \n",
    "    # Axis labels and visual elements \n",
    "    plt.ylim(0, 5000)\n",
    "    plt.xlabel('r (ft)')\n",
    "    plt.ylabel('p(r) (psi)')\n",
    "    plt.title('Dynamic Pressure Profile')\n",
    "    plt.grid(True)\n",
    "    plt.legend()\n",
    "    plt.show()"
   ]
  },
  {
   "cell_type": "code",
   "execution_count": 3,
   "id": "1c646772-7f85-408f-94da-5a5e5685d879",
   "metadata": {},
   "outputs": [],
   "source": [
    "# ----------------- Interactive Parameter Tuning ------------------\n",
    "interactive_plot = interactive(\n",
    "    flowprofile,\n",
    "    k=(100, 1000),     # Permeability slider from 100 to 1000 mD\n",
    "    mu=(10, 150),      # Viscosity slider from 10 to 150 cP\n",
    "    q=(100, 500)       # Production rate slider from 100 to 500 STB/day\n",
    ")"
   ]
  },
  {
   "cell_type": "code",
   "execution_count": 4,
   "id": "a83dfd07-5044-444b-bce1-fb9823de0e1c",
   "metadata": {},
   "outputs": [
    {
     "data": {
      "application/vnd.jupyter.widget-view+json": {
       "model_id": "f486b972367741fa816d69222c3eed1f",
       "version_major": 2,
       "version_minor": 0
      },
      "text/plain": [
       "interactive(children=(IntSlider(value=550, description='k', max=1000, min=100), IntSlider(value=80, descriptio…"
      ]
     },
     "metadata": {},
     "output_type": "display_data"
    }
   ],
   "source": [
    "# Display interactive widget in Jupyter notebook\n",
    "display(interactive_plot)"
   ]
  },
  {
   "cell_type": "code",
   "execution_count": null,
   "id": "4df76740-3d01-4b40-9a26-cc5085d594ec",
   "metadata": {},
   "outputs": [],
   "source": []
  },
  {
   "cell_type": "code",
   "execution_count": null,
   "id": "6eb9b7c0-4dff-42da-a2bd-60d787faef09",
   "metadata": {},
   "outputs": [],
   "source": []
  }
 ],
 "metadata": {
  "kernelspec": {
   "display_name": "Python 3 (ipykernel)",
   "language": "python",
   "name": "python3"
  },
  "language_info": {
   "codemirror_mode": {
    "name": "ipython",
    "version": 3
   },
   "file_extension": ".py",
   "mimetype": "text/x-python",
   "name": "python",
   "nbconvert_exporter": "python",
   "pygments_lexer": "ipython3",
   "version": "3.13.5"
  }
 },
 "nbformat": 4,
 "nbformat_minor": 5
}
